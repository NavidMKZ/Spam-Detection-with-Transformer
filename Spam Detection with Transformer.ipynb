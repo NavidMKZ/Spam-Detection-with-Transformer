{
 "cells": [
  {
   "cell_type": "code",
   "execution_count": 1,
   "id": "6aa0867e-29f1-4a3f-86a9-7291c2386933",
   "metadata": {},
   "outputs": [
    {
     "name": "stdout",
     "output_type": "stream",
     "text": [
      "Your device is using cuda\n"
     ]
    }
   ],
   "source": [
    "import torch\n",
    "import pandas as pd\n",
    "from sklearn.model_selection import train_test_split\n",
    "from transformers import AutoTokenizer\n",
    "import torch.nn as nn\n",
    "from sklearn.metrics import accuracy_score, f1_score, confusion_matrix\n",
    "import seaborn as sns\n",
    "import matplotlib.pyplot as plt\n",
    "import torch.nn.functional as F\n",
    "from torch.utils.data import Dataset, DataLoader\n",
    "from tqdm import tqdm\n",
    "import kagglehub\n",
    "device = 'cuda' if torch.cuda.is_available() else 'cpu'\n",
    "print(f\"Your device is using {device}\")"
   ]
  },
  {
   "cell_type": "code",
   "execution_count": 2,
   "id": "368f4b0f-0cca-4b56-9ce3-d56ddcf4bfd1",
   "metadata": {},
   "outputs": [
    {
     "name": "stdout",
     "output_type": "stream",
     "text": [
      "Warning: Looks like you're using an outdated `kagglehub` version (installed: 0.3.11), please consider upgrading to the latest version (0.3.12).\n",
      "Data source import complete.\n",
      "\n",
      "\n",
      "information of dataset:\n",
      "\n",
      "<class 'pandas.core.frame.DataFrame'>\n",
      "RangeIndex: 5572 entries, 0 to 5571\n",
      "Data columns (total 2 columns):\n",
      " #   Column   Non-Null Count  Dtype \n",
      "---  ------   --------------  ----- \n",
      " 0   Label    5572 non-null   object\n",
      " 1   Message  5572 non-null   object\n",
      "dtypes: object(2)\n",
      "memory usage: 87.2+ KB\n",
      "None\n"
     ]
    },
    {
     "data": {
      "text/html": [
       "<div>\n",
       "<style scoped>\n",
       "    .dataframe tbody tr th:only-of-type {\n",
       "        vertical-align: middle;\n",
       "    }\n",
       "\n",
       "    .dataframe tbody tr th {\n",
       "        vertical-align: top;\n",
       "    }\n",
       "\n",
       "    .dataframe thead th {\n",
       "        text-align: right;\n",
       "    }\n",
       "</style>\n",
       "<table border=\"1\" class=\"dataframe\">\n",
       "  <thead>\n",
       "    <tr style=\"text-align: right;\">\n",
       "      <th></th>\n",
       "      <th>Label</th>\n",
       "      <th>Message</th>\n",
       "    </tr>\n",
       "  </thead>\n",
       "  <tbody>\n",
       "    <tr>\n",
       "      <th>0</th>\n",
       "      <td>ham</td>\n",
       "      <td>Go until jurong point, crazy.. Available only ...</td>\n",
       "    </tr>\n",
       "    <tr>\n",
       "      <th>1</th>\n",
       "      <td>ham</td>\n",
       "      <td>Ok lar... Joking wif u oni...</td>\n",
       "    </tr>\n",
       "    <tr>\n",
       "      <th>2</th>\n",
       "      <td>spam</td>\n",
       "      <td>Free entry in 2 a wkly comp to win FA Cup fina...</td>\n",
       "    </tr>\n",
       "    <tr>\n",
       "      <th>3</th>\n",
       "      <td>ham</td>\n",
       "      <td>U dun say so early hor... U c already then say...</td>\n",
       "    </tr>\n",
       "  </tbody>\n",
       "</table>\n",
       "</div>"
      ],
      "text/plain": [
       "  Label                                            Message\n",
       "0   ham  Go until jurong point, crazy.. Available only ...\n",
       "1   ham                      Ok lar... Joking wif u oni...\n",
       "2  spam  Free entry in 2 a wkly comp to win FA Cup fina...\n",
       "3   ham  U dun say so early hor... U c already then say..."
      ]
     },
     "execution_count": 2,
     "metadata": {},
     "output_type": "execute_result"
    }
   ],
   "source": [
    "data_path = kagglehub.dataset_download(\"hubashaikh/ham-vs-spam-sms-classification-dataset\")\n",
    "print('Data source import complete.')\n",
    "\n",
    "data_path = data_path + \"\\\\SMS_spam_collection.csv\"\n",
    "df = pd.read_csv(data_path)\n",
    "df.dropna(inplace=True)\n",
    "\n",
    "print(\"\\n\\ninformation of dataset:\\n\")\n",
    "print(df.info())\n",
    "df.head(4)"
   ]
  },
  {
   "cell_type": "code",
   "execution_count": 3,
   "id": "f2272154-360f-4652-866c-648aeb544c5c",
   "metadata": {},
   "outputs": [],
   "source": [
    "class SMSDataset(Dataset):\n",
    "    def __init__(self, dataframe, tokenizer_name='bert-base-uncased', max_length=None):\n",
    "        self.dataframe = dataframe.copy()\n",
    "        self.tokenizer = self.load_tokenizer(tokenizer_name)\n",
    "        self.texts, self.labels = self.preprocess_data()\n",
    "\n",
    "        if max_length is None:\n",
    "            max_length = self.determine_max_length()\n",
    "        \n",
    "        self.encodings = self.encode_texts(max_length)\n",
    "\n",
    "    def load_tokenizer(self, tokenizer_name):\n",
    "        return AutoTokenizer.from_pretrained(tokenizer_name)\n",
    "\n",
    "    def preprocess_data(self):\n",
    "        self.dataframe['Label'] = self.dataframe['Label'].map({'ham': 0, 'spam': 1})\n",
    "        self.dataframe['Message'] = self.dataframe['Message'].str.lower().str.strip()\n",
    "        texts = self.dataframe['Message'].tolist()\n",
    "        labels = torch.tensor(self.dataframe['Label'].values)\n",
    "        return texts, labels\n",
    "\n",
    "    def determine_max_length(self):\n",
    "        raw_encodings = self.tokenizer(self.texts, add_special_tokens=True)\n",
    "        return max(len(ids) for ids in raw_encodings['input_ids'])\n",
    "\n",
    "    def encode_texts(self, max_length):\n",
    "        return self.tokenizer(\n",
    "            self.texts,\n",
    "            truncation=True,\n",
    "            padding='max_length',\n",
    "            max_length=max_length,\n",
    "            return_tensors='pt'\n",
    "        )\n",
    "\n",
    "    def __len__(self):\n",
    "        return len(self.labels)\n",
    "\n",
    "    def __getitem__(self, idx):\n",
    "        item = {key: val[idx] for key, val in self.encodings.items()}\n",
    "        item['labels'] = self.labels[idx]\n",
    "        return item\n",
    "\n"
   ]
  },
  {
   "cell_type": "code",
   "execution_count": 4,
   "id": "0496e087-33ae-45d1-9a48-1271a8cfbfc7",
   "metadata": {},
   "outputs": [],
   "source": [
    "torch.manual_seed(42)\n",
    "batch_size = 16\n",
    "train_df, test_df = train_test_split(df, test_size=0.2, random_state=42, stratify=df['Label'])\n",
    "\n",
    "train_dataset = SMSDataset(train_df)\n",
    "test_dataset = SMSDataset(test_df)\n",
    "\n",
    "train_loader = DataLoader(train_dataset, batch_size=batch_size, shuffle=True)\n",
    "test_loader = DataLoader(test_dataset, batch_size=batch_size, shuffle=False)"
   ]
  },
  {
   "cell_type": "code",
   "execution_count": 5,
   "id": "67a739d4-c5ee-4039-a328-83413029a2ea",
   "metadata": {},
   "outputs": [],
   "source": [
    "torch.manual_seed(42)\n",
    "class FocalLoss(nn.Module):\n",
    "    def __init__(self, alpha=1, gamma=2, reduction='mean'):\n",
    "\n",
    "        super(FocalLoss, self).__init__()\n",
    "        self.alpha = alpha\n",
    "        self.gamma = gamma\n",
    "        self.reduction = reduction\n",
    "        self.bce_loss = nn.BCEWithLogitsLoss(reduction='none')  \n",
    "\n",
    "    def forward(self, inputs, targets):\n",
    "        bce_loss = self.bce_loss(inputs, targets.float())\n",
    "        probas = torch.sigmoid(inputs)\n",
    "        pt = torch.where(targets == 1, probas, 1 - probas)  \n",
    "        \n",
    "        focal_term = (1 - pt) ** self.gamma\n",
    "        loss = self.alpha * focal_term * bce_loss\n",
    "\n",
    "        if self.reduction == 'mean':\n",
    "            return loss.mean()\n",
    "        elif self.reduction == 'sum':\n",
    "            return loss.sum()\n",
    "        else:\n",
    "            return loss\n",
    "\n",
    "\n",
    "class TransformerModel(nn.Module):\n",
    "    def __init__(self, vocab_size, embedding_dim, num_heads, num_layers, hidden_dim, num_classes):\n",
    "        super(TransformerModel, self).__init__()\n",
    "        \n",
    "        self.embedding = nn.Embedding(vocab_size, embedding_dim)\n",
    "        self.encoder_layer = nn.TransformerEncoderLayer(d_model=embedding_dim, \n",
    "                                                        nhead=num_heads, \n",
    "                                                        dim_feedforward=hidden_dim, \n",
    "                                                        batch_first=True)\n",
    "        self.transformer = nn.TransformerEncoder(self.encoder_layer, num_layers=num_layers)\n",
    "        self.fc1 = nn.Linear(embedding_dim, hidden_dim)\n",
    "        self.fc2 = nn.Linear(hidden_dim, hidden_dim)\n",
    "        self.fc3 = nn.Linear(hidden_dim, num_classes)\n",
    "        self.gelu = nn.GELU()\n",
    "\n",
    "    def forward(self, input_ids, attention_mask=None):\n",
    "        x = self.embedding(input_ids)\n",
    "        \n",
    "        if attention_mask is not None:\n",
    "            src_key_padding_mask = (attention_mask == 0)\n",
    "        else:\n",
    "            src_key_padding_mask = None\n",
    "\n",
    "        x = self.transformer(x, src_key_padding_mask=src_key_padding_mask)\n",
    "        x = x[:, 0, :]\n",
    "        x = self.gelu(self.fc1(x))\n",
    "        x = self.gelu(self.fc2(x))\n",
    "        x = self.fc3(x)\n",
    "        return x\n",
    "\n",
    "\n",
    "\n",
    "model = TransformerModel(vocab_size=len(train_dataset.tokenizer.vocab), \n",
    "                         embedding_dim=128, \n",
    "                         num_heads=4,         \n",
    "                         num_layers=4,        \n",
    "                         hidden_dim=256,      \n",
    "                         num_classes=1).to(device)       \n",
    "\n",
    "\n",
    "\n",
    "loss_func = FocalLoss(alpha=1, gamma=2)\n",
    "optimizer = torch.optim.Adam(model.parameters(), lr=1e-4)\n"
   ]
  },
  {
   "cell_type": "code",
   "execution_count": 6,
   "id": "75bd94d9-321e-4a32-9825-6b68e80ba2db",
   "metadata": {},
   "outputs": [],
   "source": [
    "class Trainer:\n",
    "    def __init__(self, model, optimizer, loss_fn, device):\n",
    "        self.model = model\n",
    "        self.optimizer = optimizer\n",
    "        self.loss_fn = loss_fn\n",
    "        self.device = device\n",
    "\n",
    "    def train_one_epoch(self, train_loader, epoch, epochs):\n",
    "        self.model.train()\n",
    "        total_loss = 0\n",
    "        progress_bar = tqdm(train_loader, desc=f\"Epoch {epoch+1}/{epochs}\", unit=\"batch\")\n",
    "\n",
    "        for batch in progress_bar:\n",
    "            input_ids = batch['input_ids'].to(self.device)\n",
    "            attention_mask = batch['attention_mask'].to(self.device)\n",
    "            labels = batch['labels'].to(self.device)\n",
    "\n",
    "            self.optimizer.zero_grad()\n",
    "            outputs = self.model(input_ids, attention_mask=attention_mask)\n",
    "\n",
    "            loss = self.loss_fn(outputs.squeeze(), labels.float())\n",
    "            total_loss += loss.item()\n",
    "\n",
    "            loss.backward()\n",
    "            self.optimizer.step()\n",
    "\n",
    "            progress_bar.set_postfix(loss=total_loss / (progress_bar.n + 1))\n",
    "\n",
    "    def validate(self, val_loader):\n",
    "        self.model.eval()\n",
    "        val_predictions = []\n",
    "        val_true_labels = []\n",
    "\n",
    "        with torch.no_grad():\n",
    "            for batch in val_loader:\n",
    "                input_ids = batch['input_ids'].to(self.device)\n",
    "                attention_mask = batch['attention_mask'].to(self.device)\n",
    "                labels = batch['labels'].to(self.device)\n",
    "\n",
    "                outputs = self.model(input_ids, attention_mask=attention_mask)\n",
    "                preds = torch.round(torch.sigmoid(outputs)).squeeze()\n",
    "\n",
    "                val_predictions.extend(preds.cpu().numpy())\n",
    "                val_true_labels.extend(labels.cpu().numpy())\n",
    "\n",
    "        val_accuracy = accuracy_score(val_true_labels, val_predictions)\n",
    "        print(f\"Validation Accuracy: {100 * val_accuracy:.2f}%\")\n",
    "\n",
    "    def train(self, train_loader, epochs):\n",
    "        for epoch in range(epochs):\n",
    "            self.train_one_epoch(train_loader, epoch, epochs)\n",
    "            self.validate(train_loader) \n",
    "\n",
    "    def evaluate_test(self, test_loader):\n",
    "        self.model.eval()\n",
    "        predictions = []\n",
    "        true_labels = []\n",
    "\n",
    "        with torch.no_grad():\n",
    "            for batch in test_loader:\n",
    "                input_ids = batch['input_ids'].to(self.device)\n",
    "                attention_mask = batch['attention_mask'].to(self.device)\n",
    "                labels = batch['labels'].to(self.device)\n",
    "\n",
    "                outputs = self.model(input_ids, attention_mask=attention_mask)\n",
    "                preds = torch.round(torch.sigmoid(outputs)).squeeze()\n",
    "\n",
    "                predictions.extend(preds.cpu().numpy())\n",
    "                true_labels.extend(labels.cpu().numpy())\n",
    "\n",
    "        accuracy = accuracy_score(true_labels, predictions)\n",
    "        f1 = f1_score(true_labels, predictions)\n",
    "        cm = confusion_matrix(true_labels, predictions)\n",
    "\n",
    "        print(f\"Test Accuracy: {100 * accuracy:.2f}%\")\n",
    "        print(f\"Test F1 Score: {100 * f1:.2f}%\")\n",
    "        print(\"Confusion Matrix:\")\n",
    "        print(cm)\n",
    "\n",
    "        plt.figure(figsize=(6, 5))\n",
    "        sns.heatmap(cm, annot=True, fmt='d', cmap='Blues')\n",
    "        plt.xlabel('Predicted')\n",
    "        plt.ylabel('True')\n",
    "        plt.title('Confusion Matrix')\n",
    "        plt.show()\n"
   ]
  },
  {
   "cell_type": "code",
   "execution_count": 7,
   "id": "b485afd2-1112-4a70-98d2-4aff97d2457f",
   "metadata": {},
   "outputs": [
    {
     "name": "stderr",
     "output_type": "stream",
     "text": [
      "Epoch 1/11: 100%|████████████████████████████████████████████████████| 279/279 [00:06<00:00, 42.10batch/s, loss=0.0442]\n",
      "C:\\Users\\NAVID\\AppData\\Local\\Programs\\Python\\Python312\\Lib\\site-packages\\torch\\nn\\modules\\transformer.py:508: UserWarning: The PyTorch API of nested tensors is in prototype stage and will change in the near future. We recommend specifying layout=torch.jagged when constructing a nested tensor, as this layout receives active development, has better operator coverage, and works with torch.compile. (Triggered internally at C:\\actions-runner\\_work\\pytorch\\pytorch\\pytorch\\aten\\src\\ATen\\NestedTensorImpl.cpp:182.)\n",
      "  output = torch._nested_tensor_from_mask(\n"
     ]
    },
    {
     "name": "stdout",
     "output_type": "stream",
     "text": [
      "Validation Accuracy: 98.59%\n"
     ]
    },
    {
     "name": "stderr",
     "output_type": "stream",
     "text": [
      "Epoch 2/11: 100%|████████████████████████████████████████████████████| 279/279 [00:05<00:00, 46.99batch/s, loss=0.0158]\n"
     ]
    },
    {
     "name": "stdout",
     "output_type": "stream",
     "text": [
      "Validation Accuracy: 99.28%\n"
     ]
    },
    {
     "name": "stderr",
     "output_type": "stream",
     "text": [
      "Epoch 3/11: 100%|████████████████████████████████████████████████████| 279/279 [00:06<00:00, 46.08batch/s, loss=0.0114]\n"
     ]
    },
    {
     "name": "stdout",
     "output_type": "stream",
     "text": [
      "Validation Accuracy: 99.08%\n"
     ]
    },
    {
     "name": "stderr",
     "output_type": "stream",
     "text": [
      "Epoch 4/11: 100%|███████████████████████████████████████████████████| 279/279 [00:06<00:00, 45.82batch/s, loss=0.00708]\n"
     ]
    },
    {
     "name": "stdout",
     "output_type": "stream",
     "text": [
      "Validation Accuracy: 99.66%\n"
     ]
    },
    {
     "name": "stderr",
     "output_type": "stream",
     "text": [
      "Epoch 5/11: 100%|███████████████████████████████████████████████████| 279/279 [00:06<00:00, 46.10batch/s, loss=0.00573]\n"
     ]
    },
    {
     "name": "stdout",
     "output_type": "stream",
     "text": [
      "Validation Accuracy: 99.84%\n"
     ]
    },
    {
     "name": "stderr",
     "output_type": "stream",
     "text": [
      "Epoch 6/11: 100%|███████████████████████████████████████████████████| 279/279 [00:06<00:00, 45.90batch/s, loss=0.00446]\n"
     ]
    },
    {
     "name": "stdout",
     "output_type": "stream",
     "text": [
      "Validation Accuracy: 99.71%\n"
     ]
    },
    {
     "name": "stderr",
     "output_type": "stream",
     "text": [
      "Epoch 7/11: 100%|███████████████████████████████████████████████████| 279/279 [00:06<00:00, 46.04batch/s, loss=0.00288]\n"
     ]
    },
    {
     "name": "stdout",
     "output_type": "stream",
     "text": [
      "Validation Accuracy: 99.93%\n"
     ]
    },
    {
     "name": "stderr",
     "output_type": "stream",
     "text": [
      "Epoch 8/11: 100%|███████████████████████████████████████████████████| 279/279 [00:06<00:00, 46.22batch/s, loss=0.00233]\n"
     ]
    },
    {
     "name": "stdout",
     "output_type": "stream",
     "text": [
      "Validation Accuracy: 99.91%\n"
     ]
    },
    {
     "name": "stderr",
     "output_type": "stream",
     "text": [
      "Epoch 9/11: 100%|███████████████████████████████████████████████████| 279/279 [00:06<00:00, 46.03batch/s, loss=0.00218]\n"
     ]
    },
    {
     "name": "stdout",
     "output_type": "stream",
     "text": [
      "Validation Accuracy: 99.89%\n"
     ]
    },
    {
     "name": "stderr",
     "output_type": "stream",
     "text": [
      "Epoch 10/11: 100%|██████████████████████████████████████████████████| 279/279 [00:06<00:00, 45.79batch/s, loss=0.00174]\n"
     ]
    },
    {
     "name": "stdout",
     "output_type": "stream",
     "text": [
      "Validation Accuracy: 99.82%\n"
     ]
    },
    {
     "name": "stderr",
     "output_type": "stream",
     "text": [
      "Epoch 11/11: 100%|██████████████████████████████████████████████████| 279/279 [00:06<00:00, 45.62batch/s, loss=0.00177]\n"
     ]
    },
    {
     "name": "stdout",
     "output_type": "stream",
     "text": [
      "Validation Accuracy: 100.00%\n",
      "Test Accuracy: 98.92%\n",
      "Test F1 Score: 95.83%\n",
      "Confusion Matrix:\n",
      "[[965   1]\n",
      " [ 11 138]]\n"
     ]
    },
    {
     "data": {
      "image/png": "[encoded data removed]",
      "text/plain": [
       "<Figure size 600x500 with 2 Axes>"
      ]
     },
     "metadata": {},
     "output_type": "display_data"
    }
   ],
   "source": [
    "trainer = Trainer(model, optimizer, loss_func, device)\n",
    "\n",
    "trainer.train(train_loader, epochs=11)\n",
    "\n",
    "trainer.evaluate_test(test_loader)"
   ]
  },
  {
   "cell_type": "code",
   "execution_count": null,
   "id": "3ac7366f-0e11-47a3-8b06-f2594bf97e0b",
   "metadata": {},
   "outputs": [],
   "source": []
  }
 ],
 "metadata": {
  "kernelspec": {
   "display_name": "Python 3 (ipykernel)",
   "language": "python",
   "name": "python3"
  },
  "language_info": {
   "codemirror_mode": {
    "name": "ipython",
    "version": 3
   },
   "file_extension": ".py",
   "mimetype": "text/x-python",
   "name": "python",
   "nbconvert_exporter": "python",
   "pygments_lexer": "ipython3",
   "version": "3.12.5"
  }
 },
 "nbformat": 4,
 "nbformat_minor": 5
}
